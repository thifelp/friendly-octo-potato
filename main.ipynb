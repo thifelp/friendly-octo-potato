{
 "cells": [
  {
   "cell_type": "code",
   "execution_count": 1,
   "metadata": {},
   "outputs": [
    {
     "name": "stderr",
     "output_type": "stream",
     "text": [
      "c:\\Users\\tfeli\\Projetos\\friendly-octo-potato\\environment\\Lib\\site-packages\\tqdm\\auto.py:21: TqdmWarning: IProgress not found. Please update jupyter and ipywidgets. See https://ipywidgets.readthedocs.io/en/stable/user_install.html\n",
      "  from .autonotebook import tqdm as notebook_tqdm\n"
     ]
    }
   ],
   "source": [
    "import kagglehub\n",
    "import pandas as pd\n",
    "\n",
    "from nltk.tokenize import word_tokenize\n",
    "from nltk.corpus import stopwords\n",
    "from string import punctuation"
   ]
  },
  {
   "cell_type": "code",
   "execution_count": 2,
   "metadata": {},
   "outputs": [
    {
     "name": "stdout",
     "output_type": "stream",
     "text": [
      "Warning: Looks like you're using an outdated `kagglehub` version (installed: 0.3.6), please consider upgrading to the latest version (0.3.8).\n",
      "Downloading from https://www.kaggle.com/api/v1/datasets/download/jp797498e/twitter-entity-sentiment-analysis?dataset_version_number=2...\n"
     ]
    },
    {
     "name": "stderr",
     "output_type": "stream",
     "text": [
      "100%|██████████| 1.99M/1.99M [00:00<00:00, 2.46MB/s]"
     ]
    },
    {
     "name": "stdout",
     "output_type": "stream",
     "text": [
      "Extracting files...\n"
     ]
    },
    {
     "name": "stderr",
     "output_type": "stream",
     "text": [
      "\n"
     ]
    }
   ],
   "source": [
    "# Download latest version\n",
    "path = kagglehub.dataset_download(\"jp797498e/twitter-entity-sentiment-analysis\", force_download=True)"
   ]
  },
  {
   "cell_type": "code",
   "execution_count": 53,
   "metadata": {},
   "outputs": [],
   "source": [
    "df_training = pd.read_csv(rf'{path}\\twitter_training.csv')\n",
    "df_validation = pd.read_csv(rf'{path}\\twitter_validation.csv')"
   ]
  },
  {
   "cell_type": "code",
   "execution_count": 54,
   "metadata": {},
   "outputs": [],
   "source": [
    "rename_columns_training = {df_training.columns[0]: 'Number',\n",
    "    df_training.columns[1]: 'Games and Companies', \n",
    "    df_training.columns[2]: 'Sentiment',\n",
    "    df_training.columns[3]: 'Review'\n",
    "}\n",
    "\n",
    "df_training.rename(columns=rename_columns_training, inplace=True)\n",
    "df_training.drop(['Number'], axis=1, inplace=True)\n",
    "df_training.dropna(axis = 0, inplace=True)\n",
    "\n",
    "\n",
    "rename_columns_validation = {df_validation.columns[0]: 'Number',\n",
    "    df_validation.columns[1]: 'Games and Companies', \n",
    "    df_validation.columns[2]: 'Sentiment',\n",
    "    df_validation.columns[3]: 'Review'\n",
    "}\n",
    "\n",
    "df_validation.rename(columns=rename_columns_validation, inplace=True)\n",
    "df_validation.drop(['Number'], axis=1, inplace=True)\n",
    "df_validation.dropna(axis = 0, inplace=True)"
   ]
  },
  {
   "cell_type": "code",
   "execution_count": 55,
   "metadata": {},
   "outputs": [],
   "source": [
    "def ajust_word_tokens(colum_review: pd.Series) -> pd.Series:\n",
    "    \"\"\"Função para tokenizar o corpous textual\"\"\"\n",
    "\n",
    "    try:\n",
    "        words_tokens = []\n",
    "        for word in colum_review:\n",
    "            if len(word) > 10:\n",
    "                words_tokens.append(word_tokenize(word.lower()))\n",
    "        return words_tokens\n",
    "    except pd.errors as e:\n",
    "        print(f\"Error: {e}\")\n",
    "\n",
    "\n",
    "def remove_stop_word(word_tokens) -> pd.Series:\n",
    "    \"\"\"Função para remover os stopwords\"\"\"\n",
    "    try:\n",
    "        stop_words = stopwords.words('english')\n",
    "        for p in punctuation:\n",
    "            stop_words.append(p)\n",
    "\n",
    "        filter_word_tokes = [[value for value in word if value not in stop_words] for word in word_tokens]\n",
    "\n",
    "        return filter_word_tokes\n",
    "    except pd.errors as e:\n",
    "        print(f\"Error: {e}\")\n"
   ]
  }
 ],
 "metadata": {
  "kernelspec": {
   "display_name": "environment",
   "language": "python",
   "name": "python3"
  },
  "language_info": {
   "codemirror_mode": {
    "name": "ipython",
    "version": 3
   },
   "file_extension": ".py",
   "mimetype": "text/x-python",
   "name": "python",
   "nbconvert_exporter": "python",
   "pygments_lexer": "ipython3",
   "version": "3.11.9"
  }
 },
 "nbformat": 4,
 "nbformat_minor": 2
}
